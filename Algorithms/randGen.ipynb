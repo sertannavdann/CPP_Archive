{
 "cells": [
  {
   "cell_type": "code",
   "execution_count": null,
   "metadata": {},
   "outputs": [
    {
     "ename": "",
     "evalue": "",
     "output_type": "error",
     "traceback": [
      "\u001b[1;31mFailed to start the Kernel. \n",
      "\u001b[1;31mThe Jupyter notebook server failed to launch in time\n",
      "\u001b[1;31m/Library/Frameworks/Python.framework/Versions/3.10/lib/python3.10/site-packages/traitlets/traitlets.py:2202: FutureWarning: Supporting extra quotes around strings is deprecated in traitlets 5.0. You can use '/Users/Shared/D/Entertain/Cpp/Algorithms' instead of '\"/Users/Shared/D/Entertain/Cpp/Algorithms\"' if you require traitlets >=5.\n",
      "\u001b[1;31m  warn(\n",
      "\u001b[1;31m\n",
      "\u001b[1;31m[I 23:06:07.422 NotebookApp] Serving notebooks from local directory: /Users/Shared/D/Entertain/Cpp/Algorithms\n",
      "\u001b[1;31m\n",
      "\u001b[1;31m[I 23:06:07.423 NotebookApp] Jupyter Notebook 6.4.11 is running at:\n",
      "\u001b[1;31m\n",
      "\u001b[1;31m[I 23:06:07.423 NotebookApp] http://localhost:8888/?token=a9f46a6426370ed40aa272ef74fb25506fed45b1be8d74e7\n",
      "\u001b[1;31m\n",
      "\u001b[1;31m[I 23:06:07.423 NotebookApp]  or http://127.0.0.1:8888/?token=a9f46a6426370ed40aa272ef74fb25506fed45b1be8d74e7\n",
      "\u001b[1;31m\n",
      "\u001b[1;31m[I 23:06:07.423 NotebookApp] Use Control-C to stop this server and shut down all kernels (twice to skip confirmation).\n",
      "\u001b[1;31m\n",
      "\u001b[1;31m[C 23:06:07.425 NotebookApp] \n",
      "\u001b[1;31m    \n",
      "\u001b[1;31m    To access the notebook, open this file in a browser:\n",
      "\u001b[1;31m        file:///Users/sertanavdan/Library/Jupyter/runtime/nbserver-14485-open.html\n",
      "\u001b[1;31m    Or copy and paste one of these URLs:\n",
      "\u001b[1;31m        http://localhost:8888/?token=a9f46a6426370ed40aa272ef74fb25506fed45b1be8d74e7\n",
      "\u001b[1;31m     or http://127.0.0.1:8888/?token=a9f46a6426370ed40aa272ef74fb25506fed45b1be8d74e7. \n",
      "\u001b[1;31mView Jupyter <a href='command:jupyter.viewOutput'>log</a> for further details."
     ]
    }
   ],
   "source": [
    "import random\n",
    "import time\n",
    "\n",
    "def randGen(n):\n",
    "    start = time.time()\n",
    "    for i in range(n):\n",
    "        yield random.randint(0, n)\n",
    "    end = time.time()\n",
    "    print(end - start)\n",
    "\n",
    "randGen(100000)"
   ]
  },
  {
   "cell_type": "code",
   "execution_count": null,
   "metadata": {},
   "outputs": [],
   "source": []
  }
 ],
 "metadata": {
  "kernelspec": {
   "display_name": "CV",
   "language": "python",
   "name": "python3"
  },
  "language_info": {
   "name": "python",
   "version": "3.11.0 | packaged by conda-forge | (main, Oct 25 2022, 06:21:25) [Clang 14.0.4 ]"
  },
  "orig_nbformat": 4,
  "vscode": {
   "interpreter": {
    "hash": "9bb4e10bd348ea09997d1dd2c3b781d850f7c0af4d0cf7c7a7791bc3067887d9"
   }
  }
 },
 "nbformat": 4,
 "nbformat_minor": 2
}
